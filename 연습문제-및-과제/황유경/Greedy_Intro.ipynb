{
  "nbformat": 4,
  "nbformat_minor": 0,
  "metadata": {
    "colab": {
      "provenance": []
    },
    "kernelspec": {
      "name": "python3",
      "display_name": "Python 3"
    },
    "language_info": {
      "name": "python"
    }
  },
  "cells": [
    {
      "cell_type": "code",
      "execution_count": 1,
      "metadata": {
        "colab": {
          "base_uri": "https://localhost:8080/"
        },
        "id": "jNOwPwfyCcmE",
        "outputId": "13cdcec1-d544-4728-e318-ef3a868b2a65"
      },
      "outputs": [
        {
          "output_type": "stream",
          "name": "stdout",
          "text": [
            "6\n"
          ]
        }
      ],
      "source": [
        "# 최소 동전 개수를 구하는 함수 정의\n",
        "def get_minimum_coins(n):\n",
        "    # 사용 가능한 동전 내림차순 정렬\n",
        "    coins = [500, 100, 50, 10]\n",
        "    count = 0  # 최소 동전 개수를 저장할 변수 정의\n",
        "\n",
        "    # 각 동전에 대해 반복\n",
        "    for coin in coins:\n",
        "        count += n // coin  # 해당 동전으로 줄 수 있는 개수를 추가\n",
        "        n %= coin  # 해당 동전으로 거슬러주고 남은 금액 계산\n",
        "\n",
        "    return count  # 최소 동전 개수 반환\n",
        "\n",
        "# 예제 실행\n",
        "test_amount = 1260  # 거슬러 줄 금액\n",
        "result = get_minimum_coins(test_amount)\n",
        "print(result)  # 최소 동전 개수 출력"
      ]
    },
    {
      "cell_type": "markdown",
      "source": [
        "시간복잡도: O(1)   \n",
        "즉, 금액의 크기와 상관없다."
      ],
      "metadata": {
        "id": "pRkO8Sd2EDAm"
      }
    }
  ]
}