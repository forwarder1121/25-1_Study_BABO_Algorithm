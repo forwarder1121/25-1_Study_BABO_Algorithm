{
 "cells": [
  {
   "cell_type": "code",
   "execution_count": null,
   "metadata": {},
   "outputs": [],
   "source": [
    "\"\"\"\n",
    "문제1 : 거슬러 줘야하는 돈이 N원 이고 항상 N이 10의 배수일 때, 거스름돈의 개수의 종류는 500원, 100원, 10원이고\n",
    "각 거스름돈 종류별 개수는 무한대라고 가정, 거슬러줘야 할 동전의 최소 개수를 구하여라\n",
    "\n",
    "풀이방법 : 500원 큰 것 부터 먼저 쳐내면 나머지 10원 짤짤이로 많이 커버해야할 것 사라지기 때문에\n",
    "동전 액수 큰거부터 거슬러주는 방식으로 처리하고 시간 복잡도는 \n",
    "\"\"\" "
   ]
  },
  {
   "cell_type": "code",
   "execution_count": 5,
   "metadata": {},
   "outputs": [
    {
     "name": "stdout",
     "output_type": "stream",
     "text": [
      "거슬러준 동전의 개수는 7개 입니다.\n"
     ]
    }
   ],
   "source": [
    "N = int(input(\"거스름돈이 얼마나왔나요?\")) #input 받기기\n",
    "\n",
    "count = 0 # 거슬러준 동전 횟수 초기화\n",
    "\n",
    "coin = [500, 100, 10] # 동전 종류류\n",
    "\n",
    "for i in coin:\n",
    "    num = N // i  # 각 종류의 코인으로 거슬러준 동전 수\n",
    "    count += num  # 전체 동전 개수에 더해주기\n",
    "    N -= num * i  # 이미 거슬러준 만큼 전체에서 빼기\n",
    "\n",
    "print('거슬러준 동전의 개수는 %d개 입니다.' % count) # 출력력\n"
   ]
  },
  {
   "cell_type": "code",
   "execution_count": null,
   "metadata": {},
   "outputs": [],
   "source": [
    "\"\"\"\n",
    "문제2 : 큰 수의 법칙\n",
    "첫째 줄에 N(2<=N<=1000), M(1<=M<=10000), K(1<=K<=10000)의 자연수가 주어지고, 각 자연수는 공백으로 구분\n",
    "둘째 줄에 N개의 자연수가 주어지고, 1이상 10000이하 수이며 각 자연수는 공백으로 구분\n",
    "항상 K<=M\n",
    "\n",
    "큰 수의 법칙에 따라 합해진 값 출력\n",
    "\n",
    "풀이방법 : 결국 제일 커져야 하고, 해당 숫자는 연속해서 K번 이상 나올 수 없으므로 제일 좋은 숫자 K번 쓰고, 그다음 숫자 1번\n",
    "이런식으로 반복\n",
    "\"\"\""
   ]
  },
  {
   "cell_type": "code",
   "execution_count": null,
   "metadata": {},
   "outputs": [],
   "source": [
    "n,m,k = map(int, input().split()) #input 분할한거에 int 취해서 입력받기\n",
    "\n",
    "num_list = list(map(int, input.split())) # n개수만큼 숫자 배열\n",
    "\n",
    "num_list.sort(reverse=True) #배열 내림차순 정렬, 사실 앞 두 개가 동일하더라도 상관 없어짐\n",
    "\n",
    "first = num_list[0] # 가장 큰 수\n",
    "second = num_list[1] # 두번째로 큰 수, 동일해도 무방\n",
    "\n",
    "result = 0 # 전체 정답 값\n",
    "\n",
    "while True: # 전체 반복문\n",
    "    for i in range(k): #k번 일단 한번 돌릴때까지\n",
    "        if m == 0: #만약 더이상 더할 숫자 없으면 반복문 탈출출\n",
    "            break\n",
    "        result += first # 가장 큰 숫자 k번 더하기\n",
    "        m -=1 # 더해야 하는 횟수 1회 감소\n",
    "    if m == 0: #만약 더 안해도되면 스탑\n",
    "        break\n",
    "    result += second #만약 더 해야할시 두번째로 큰 수 한번 더하고 다시 위 반복문 loop\n",
    "    m -=1 # 더해야 하는 횟수 1회 감소\n",
    "\n",
    "print(result) #최종 합 결과 출력\n",
    "    \n",
    "\n"
   ]
  }
 ],
 "metadata": {
  "kernelspec": {
   "display_name": "base",
   "language": "python",
   "name": "python3"
  },
  "language_info": {
   "codemirror_mode": {
    "name": "ipython",
    "version": 3
   },
   "file_extension": ".py",
   "mimetype": "text/x-python",
   "name": "python",
   "nbconvert_exporter": "python",
   "pygments_lexer": "ipython3",
   "version": "3.11.7"
  }
 },
 "nbformat": 4,
 "nbformat_minor": 2
}
