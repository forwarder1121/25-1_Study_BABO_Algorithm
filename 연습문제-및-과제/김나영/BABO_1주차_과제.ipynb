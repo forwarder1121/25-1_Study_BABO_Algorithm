{
  "nbformat": 4,
  "nbformat_minor": 0,
  "metadata": {
    "colab": {
      "provenance": []
    },
    "kernelspec": {
      "name": "python3",
      "display_name": "Python 3"
    },
    "language_info": {
      "name": "python"
    }
  },
  "cells": [
    {
      "cell_type": "markdown",
      "source": [
        "# 3-1 거스름돈\n",
        "카운터에 거스름돈으로 사용할 500원, 100원, 50원, 10원짜리 동전이 무한히 존재할 때\n",
        "손님에서 거슬러 줘야 할 돈이 N원일 때 거슬러 줘야 할 동전의 최소 개수 구하기"
      ],
      "metadata": {
        "id": "b-b4GwQ9mVgD"
      }
    },
    {
      "cell_type": "code",
      "execution_count": 2,
      "metadata": {
        "id": "OOKYqAAkmBYI"
      },
      "outputs": [],
      "source": [
        "def change(n):\n",
        "  count = 0\n",
        "\n",
        "  # 거스름돈으로 사용할 동전들\n",
        "  coin_types = [500,100,50,10]\n",
        "\n",
        "  # 동전의 종류가 k개일때 시간 복잡도 : O(k)\n",
        "  for coin in coin_types:\n",
        "    count += n // coin # 동전 개수 구하기\n",
        "    n %= coin # 나머지 금액\n",
        "\n",
        "  return count"
      ]
    },
    {
      "cell_type": "code",
      "source": [
        "change(1260)"
      ],
      "metadata": {
        "colab": {
          "base_uri": "https://localhost:8080/"
        },
        "id": "Ot5GjjaNnTX3",
        "outputId": "8aff4920-d008-4078-9cc8-6bb6a98d21a9"
      },
      "execution_count": 3,
      "outputs": [
        {
          "output_type": "execute_result",
          "data": {
            "text/plain": [
              "6"
            ]
          },
          "metadata": {},
          "execution_count": 3
        }
      ]
    },
    {
      "cell_type": "markdown",
      "source": [
        "# 3-2 큰 수의 법칙\n",
        "- 다양한 수로 이루어진 배열이 있을 때 주어진 수들을 M번 더하여 가장 큰 수를 만드는 법칙\n",
        "- 단, 배열의 특정한 인덱스(번호)에 해당하는 수가 연속 해서 K번을 초과하여 더해질 수 없는 것이 이 법칙의 특징"
      ],
      "metadata": {
        "id": "9PFqhgd9oQEo"
      }
    },
    {
      "cell_type": "code",
      "source": [
        "# 배열의 크기 = n, 숫자가 더해지는 횟수 = m, 연속해서 k번\n",
        "n,m,k = map(int, input().split())\n",
        "\n",
        "# n개의 수 입력\n",
        "data = list(map(int, input().split()))\n",
        "\n",
        "data.sort() # 입력받은 수들 정렬\n",
        "first = data[n-1]\n",
        "second = data[n-2]\n",
        "\n",
        "# 가장 큰 수가 더해지는 횟수\n",
        "count = int(m/(k+1))*k  # 반복되는 수열의 길이 = k+1\n",
        "count += m%(k+1)        # m이 k+1로 나누어떨어지지 않을 때\n",
        "\n",
        "result = 0\n",
        "result += (count)*first # 가장 큰 수 더하기\n",
        "result += (m-count)*second # 두번째로 큰 수 더하기\n",
        "\n",
        "print(result)"
      ],
      "metadata": {
        "colab": {
          "base_uri": "https://localhost:8080/"
        },
        "id": "4XQHZFQOnW9_",
        "outputId": "2257efa4-90fb-4b44-a870-6b05c1c37b0b"
      },
      "execution_count": 5,
      "outputs": [
        {
          "output_type": "stream",
          "name": "stdout",
          "text": [
            "5 8 3\n",
            "2 4 5 4 6\n",
            "46\n"
          ]
        }
      ]
    },
    {
      "cell_type": "code",
      "source": [],
      "metadata": {
        "id": "puqas6T3pczo"
      },
      "execution_count": null,
      "outputs": []
    }
  ]
}